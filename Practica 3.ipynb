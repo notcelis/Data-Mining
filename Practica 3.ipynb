{
 "cells": [
  {
   "cell_type": "code",
   "execution_count": 192,
   "metadata": {},
   "outputs": [],
   "source": [
    "\n",
    "import pandas as pd\n",
    "import matplotlib.pyplot as plt\n",
    "import numpy as np\n",
    "\n",
    "from sklearn.decomposition import PCA, KernelPCA\n",
    "from sklearn.datasets import make_circles"
   ]
  },
  {
   "cell_type": "code",
   "execution_count": 193,
   "metadata": {},
   "outputs": [
    {
     "data": {
      "text/html": [
       "<div>\n",
       "<style scoped>\n",
       "    .dataframe tbody tr th:only-of-type {\n",
       "        vertical-align: middle;\n",
       "    }\n",
       "\n",
       "    .dataframe tbody tr th {\n",
       "        vertical-align: top;\n",
       "    }\n",
       "\n",
       "    .dataframe thead th {\n",
       "        text-align: right;\n",
       "    }\n",
       "</style>\n",
       "<table border=\"1\" class=\"dataframe\">\n",
       "  <thead>\n",
       "    <tr style=\"text-align: right;\">\n",
       "      <th></th>\n",
       "      <th>0</th>\n",
       "      <th>1</th>\n",
       "      <th>2</th>\n",
       "      <th>3</th>\n",
       "      <th>4</th>\n",
       "      <th>5</th>\n",
       "    </tr>\n",
       "  </thead>\n",
       "  <tbody>\n",
       "    <tr>\n",
       "      <td>0</td>\n",
       "      <td>AGUASCALIENTES</td>\n",
       "      <td>37.0</td>\n",
       "      <td>2.0</td>\n",
       "      <td>39.0</td>\n",
       "      <td>48.0</td>\n",
       "      <td>3215.0</td>\n",
       "    </tr>\n",
       "    <tr>\n",
       "      <td>1</td>\n",
       "      <td>AGUASCALIENTES</td>\n",
       "      <td>19.0</td>\n",
       "      <td>2.0</td>\n",
       "      <td>38.0</td>\n",
       "      <td>50.0</td>\n",
       "      <td>2600.0</td>\n",
       "    </tr>\n",
       "    <tr>\n",
       "      <td>2</td>\n",
       "      <td>AGUASCALIENTES</td>\n",
       "      <td>36.0</td>\n",
       "      <td>3.0</td>\n",
       "      <td>40.0</td>\n",
       "      <td>51.0</td>\n",
       "      <td>3205.0</td>\n",
       "    </tr>\n",
       "    <tr>\n",
       "      <td>3</td>\n",
       "      <td>AGUASCALIENTES</td>\n",
       "      <td>28.0</td>\n",
       "      <td>1.0</td>\n",
       "      <td>39.0</td>\n",
       "      <td>50.0</td>\n",
       "      <td>3920.0</td>\n",
       "    </tr>\n",
       "    <tr>\n",
       "      <td>4</td>\n",
       "      <td>AGUASCALIENTES</td>\n",
       "      <td>36.0</td>\n",
       "      <td>3.0</td>\n",
       "      <td>39.0</td>\n",
       "      <td>51.0</td>\n",
       "      <td>3870.0</td>\n",
       "    </tr>\n",
       "  </tbody>\n",
       "</table>\n",
       "</div>"
      ],
      "text/plain": [
       "                0     1    2     3     4       5\n",
       "0  AGUASCALIENTES  37.0  2.0  39.0  48.0  3215.0\n",
       "1  AGUASCALIENTES  19.0  2.0  38.0  50.0  2600.0\n",
       "2  AGUASCALIENTES  36.0  3.0  40.0  51.0  3205.0\n",
       "3  AGUASCALIENTES  28.0  1.0  39.0  50.0  3920.0\n",
       "4  AGUASCALIENTES  36.0  3.0  39.0  51.0  3870.0"
      ]
     },
     "execution_count": 193,
     "metadata": {},
     "output_type": "execute_result"
    }
   ],
   "source": [
    "# El conjunto de datos \"iris\"\n",
    "#https://datos.gob.mx/busca/dataset/nacimientos-ocurridos/resource/4eb5e971-92f1-4f93-88a2-f2ac2f07bb81\n",
    "filepath = \"nacimientos2016.csv\"\n",
    "# Cargamos el conjunto de datos en un dataframe\n",
    "#all_variables = ['Edo','Edad Madre','No. embarazos','Semanas de gestación','Talla','Peso'] #ojo en el tarjet\n",
    "all_variables =[]\n",
    "for x in range(60):\n",
    "    all_variables.append(x)\n",
    "    \n",
    "#all_variables = ['0','1','2. 3','4','Talla','Peso'] #ojo en el tarjet\n",
    "features = ['Edad Madre','No. embarazos','Semanas de gestación','Talla','Peso']\n",
    "target = ['Edo']\n",
    "\n",
    "dfaux = pd.read_csv(filepath,names=all_variables,encoding='latin-1',engine='python')\n",
    "dfaux2 = dfaux.drop(columns=[6,7,8,9,10,11,12,13,14,15,16,17,18,19,20,21,22,23,24,25,26,27,28,29,30,31,32,33,34,35,36,37,38,39,40,41,42,43,44,45,46,47,48,49,50,51,52,53,54,55,56,57,58,59],axis=1)\n",
    "dfaux2.head()"
   ]
  },
  {
   "cell_type": "code",
   "execution_count": 196,
   "metadata": {},
   "outputs": [
    {
     "data": {
      "text/html": [
       "<div>\n",
       "<style scoped>\n",
       "    .dataframe tbody tr th:only-of-type {\n",
       "        vertical-align: middle;\n",
       "    }\n",
       "\n",
       "    .dataframe tbody tr th {\n",
       "        vertical-align: top;\n",
       "    }\n",
       "\n",
       "    .dataframe thead th {\n",
       "        text-align: right;\n",
       "    }\n",
       "</style>\n",
       "<table border=\"1\" class=\"dataframe\">\n",
       "  <thead>\n",
       "    <tr style=\"text-align: right;\">\n",
       "      <th></th>\n",
       "      <th>Edo</th>\n",
       "      <th>Edad Madre</th>\n",
       "      <th>No. embarazos</th>\n",
       "      <th>Semanas de gestación</th>\n",
       "      <th>Talla</th>\n",
       "      <th>Peso</th>\n",
       "    </tr>\n",
       "  </thead>\n",
       "  <tbody>\n",
       "    <tr>\n",
       "      <td>0</td>\n",
       "      <td>AGUASCALIENTES</td>\n",
       "      <td>37.0</td>\n",
       "      <td>2.0</td>\n",
       "      <td>39.0</td>\n",
       "      <td>48.0</td>\n",
       "      <td>3215.0</td>\n",
       "    </tr>\n",
       "    <tr>\n",
       "      <td>1</td>\n",
       "      <td>AGUASCALIENTES</td>\n",
       "      <td>19.0</td>\n",
       "      <td>2.0</td>\n",
       "      <td>38.0</td>\n",
       "      <td>50.0</td>\n",
       "      <td>2600.0</td>\n",
       "    </tr>\n",
       "    <tr>\n",
       "      <td>2</td>\n",
       "      <td>AGUASCALIENTES</td>\n",
       "      <td>36.0</td>\n",
       "      <td>3.0</td>\n",
       "      <td>40.0</td>\n",
       "      <td>51.0</td>\n",
       "      <td>3205.0</td>\n",
       "    </tr>\n",
       "    <tr>\n",
       "      <td>3</td>\n",
       "      <td>AGUASCALIENTES</td>\n",
       "      <td>28.0</td>\n",
       "      <td>1.0</td>\n",
       "      <td>39.0</td>\n",
       "      <td>50.0</td>\n",
       "      <td>3920.0</td>\n",
       "    </tr>\n",
       "    <tr>\n",
       "      <td>4</td>\n",
       "      <td>AGUASCALIENTES</td>\n",
       "      <td>36.0</td>\n",
       "      <td>3.0</td>\n",
       "      <td>39.0</td>\n",
       "      <td>51.0</td>\n",
       "      <td>3870.0</td>\n",
       "    </tr>\n",
       "    <tr>\n",
       "      <td>...</td>\n",
       "      <td>...</td>\n",
       "      <td>...</td>\n",
       "      <td>...</td>\n",
       "      <td>...</td>\n",
       "      <td>...</td>\n",
       "      <td>...</td>\n",
       "    </tr>\n",
       "    <tr>\n",
       "      <td>1006704</td>\n",
       "      <td>MEXICO</td>\n",
       "      <td>24.0</td>\n",
       "      <td>2.0</td>\n",
       "      <td>38.0</td>\n",
       "      <td>48.0</td>\n",
       "      <td>2525.0</td>\n",
       "    </tr>\n",
       "    <tr>\n",
       "      <td>1006705</td>\n",
       "      <td>MEXICO</td>\n",
       "      <td>24.0</td>\n",
       "      <td>2.0</td>\n",
       "      <td>39.0</td>\n",
       "      <td>51.0</td>\n",
       "      <td>2815.0</td>\n",
       "    </tr>\n",
       "    <tr>\n",
       "      <td>1006706</td>\n",
       "      <td>MEXICO</td>\n",
       "      <td>26.0</td>\n",
       "      <td>3.0</td>\n",
       "      <td>41.0</td>\n",
       "      <td>50.0</td>\n",
       "      <td>3000.0</td>\n",
       "    </tr>\n",
       "    <tr>\n",
       "      <td>1006707</td>\n",
       "      <td>MEXICO</td>\n",
       "      <td>25.0</td>\n",
       "      <td>4.0</td>\n",
       "      <td>38.0</td>\n",
       "      <td>49.0</td>\n",
       "      <td>2725.0</td>\n",
       "    </tr>\n",
       "    <tr>\n",
       "      <td>1006708</td>\n",
       "      <td>MEXICO</td>\n",
       "      <td>21.0</td>\n",
       "      <td>3.0</td>\n",
       "      <td>40.0</td>\n",
       "      <td>50.0</td>\n",
       "      <td>2740.0</td>\n",
       "    </tr>\n",
       "  </tbody>\n",
       "</table>\n",
       "<p>1006709 rows × 6 columns</p>\n",
       "</div>"
      ],
      "text/plain": [
       "                    Edo  Edad Madre  No. embarazos  Semanas de gestación  \\\n",
       "0        AGUASCALIENTES        37.0            2.0                  39.0   \n",
       "1        AGUASCALIENTES        19.0            2.0                  38.0   \n",
       "2        AGUASCALIENTES        36.0            3.0                  40.0   \n",
       "3        AGUASCALIENTES        28.0            1.0                  39.0   \n",
       "4        AGUASCALIENTES        36.0            3.0                  39.0   \n",
       "...                 ...         ...            ...                   ...   \n",
       "1006704          MEXICO        24.0            2.0                  38.0   \n",
       "1006705          MEXICO        24.0            2.0                  39.0   \n",
       "1006706          MEXICO        26.0            3.0                  41.0   \n",
       "1006707          MEXICO        25.0            4.0                  38.0   \n",
       "1006708          MEXICO        21.0            3.0                  40.0   \n",
       "\n",
       "         Talla    Peso  \n",
       "0         48.0  3215.0  \n",
       "1         50.0  2600.0  \n",
       "2         51.0  3205.0  \n",
       "3         50.0  3920.0  \n",
       "4         51.0  3870.0  \n",
       "...        ...     ...  \n",
       "1006704   48.0  2525.0  \n",
       "1006705   51.0  2815.0  \n",
       "1006706   50.0  3000.0  \n",
       "1006707   49.0  2725.0  \n",
       "1006708   50.0  2740.0  \n",
       "\n",
       "[1006709 rows x 6 columns]"
      ]
     },
     "execution_count": 196,
     "metadata": {},
     "output_type": "execute_result"
    }
   ],
   "source": [
    "dfaux3 = dfaux2.rename(columns={0: \"Edo\", 1: \"Edad Madre\",2:\"No. embarazos\",3:\"Semanas de gestación\",4:\"Talla\",5:\"Peso\"})\n",
    "df = dfaux3[:1006709]\n",
    "df"
   ]
  },
  {
   "cell_type": "markdown",
   "metadata": {},
   "source": [
    "\n",
    "Todas las variables deben estar en la misma escala antes de aplicar PCA, de lo contrario una característica con valores grandes dominará el resultado. A continuación utilizo StandardScaler en scikit-learn para estandarizar las características del conjunto de datos en la escala de unidades (media = 0 y varianza = 1)."
   ]
  },
  {
   "cell_type": "code",
   "execution_count": 200,
   "metadata": {},
   "outputs": [
    {
     "data": {
      "text/html": [
       "<div>\n",
       "<style scoped>\n",
       "    .dataframe tbody tr th:only-of-type {\n",
       "        vertical-align: middle;\n",
       "    }\n",
       "\n",
       "    .dataframe tbody tr th {\n",
       "        vertical-align: top;\n",
       "    }\n",
       "\n",
       "    .dataframe thead th {\n",
       "        text-align: right;\n",
       "    }\n",
       "</style>\n",
       "<table border=\"1\" class=\"dataframe\">\n",
       "  <thead>\n",
       "    <tr style=\"text-align: right;\">\n",
       "      <th></th>\n",
       "      <th>Edad Madre</th>\n",
       "      <th>No. embarazos</th>\n",
       "      <th>Semanas de gestación</th>\n",
       "      <th>Talla</th>\n",
       "      <th>Peso</th>\n",
       "    </tr>\n",
       "  </thead>\n",
       "  <tbody>\n",
       "    <tr>\n",
       "      <td>0</td>\n",
       "      <td>0.028283</td>\n",
       "      <td>0.010204</td>\n",
       "      <td>0.259259</td>\n",
       "      <td>0.291667</td>\n",
       "      <td>0.308672</td>\n",
       "    </tr>\n",
       "    <tr>\n",
       "      <td>1</td>\n",
       "      <td>0.010101</td>\n",
       "      <td>0.010204</td>\n",
       "      <td>0.246914</td>\n",
       "      <td>0.319444</td>\n",
       "      <td>0.246000</td>\n",
       "    </tr>\n",
       "    <tr>\n",
       "      <td>2</td>\n",
       "      <td>0.027273</td>\n",
       "      <td>0.020408</td>\n",
       "      <td>0.271605</td>\n",
       "      <td>0.333333</td>\n",
       "      <td>0.307653</td>\n",
       "    </tr>\n",
       "    <tr>\n",
       "      <td>3</td>\n",
       "      <td>0.019192</td>\n",
       "      <td>0.000000</td>\n",
       "      <td>0.259259</td>\n",
       "      <td>0.319444</td>\n",
       "      <td>0.380516</td>\n",
       "    </tr>\n",
       "    <tr>\n",
       "      <td>4</td>\n",
       "      <td>0.027273</td>\n",
       "      <td>0.020408</td>\n",
       "      <td>0.259259</td>\n",
       "      <td>0.333333</td>\n",
       "      <td>0.375420</td>\n",
       "    </tr>\n",
       "  </tbody>\n",
       "</table>\n",
       "</div>"
      ],
      "text/plain": [
       "   Edad Madre  No. embarazos  Semanas de gestación     Talla      Peso\n",
       "0    0.028283       0.010204              0.259259  0.291667  0.308672\n",
       "1    0.010101       0.010204              0.246914  0.319444  0.246000\n",
       "2    0.027273       0.020408              0.271605  0.333333  0.307653\n",
       "3    0.019192       0.000000              0.259259  0.319444  0.380516\n",
       "4    0.027273       0.020408              0.259259  0.333333  0.375420"
      ]
     },
     "execution_count": 200,
     "metadata": {},
     "output_type": "execute_result"
    }
   ],
   "source": [
    "from sklearn.preprocessing import MinMaxScaler\n",
    "scaler = MinMaxScaler()\n",
    "df_sc = pd.DataFrame(scaler.fit_transform(df[features]),columns=features)\n",
    "df_sc.head()"
   ]
  },
  {
   "cell_type": "markdown",
   "metadata": {},
   "source": [
    "Hay 5 features o características en los datos originales. Así que PCA proporcionará el mismo número de componentes principales."
   ]
  },
  {
   "cell_type": "code",
   "execution_count": 201,
   "metadata": {},
   "outputs": [
    {
     "data": {
      "text/html": [
       "<div>\n",
       "<style scoped>\n",
       "    .dataframe tbody tr th:only-of-type {\n",
       "        vertical-align: middle;\n",
       "    }\n",
       "\n",
       "    .dataframe tbody tr th {\n",
       "        vertical-align: top;\n",
       "    }\n",
       "\n",
       "    .dataframe thead th {\n",
       "        text-align: right;\n",
       "    }\n",
       "</style>\n",
       "<table border=\"1\" class=\"dataframe\">\n",
       "  <thead>\n",
       "    <tr style=\"text-align: right;\">\n",
       "      <th></th>\n",
       "      <th>Edad Madre</th>\n",
       "      <th>No. embarazos</th>\n",
       "      <th>Semanas de gestación</th>\n",
       "      <th>Talla</th>\n",
       "      <th>Peso</th>\n",
       "    </tr>\n",
       "  </thead>\n",
       "  <tbody>\n",
       "    <tr>\n",
       "      <td>0</td>\n",
       "      <td>-164.292001</td>\n",
       "      <td>11.065982</td>\n",
       "      <td>-2.589231</td>\n",
       "      <td>0.364321</td>\n",
       "      <td>-0.355665</td>\n",
       "    </tr>\n",
       "    <tr>\n",
       "      <td>1</td>\n",
       "      <td>-779.290896</td>\n",
       "      <td>-6.853430</td>\n",
       "      <td>0.274158</td>\n",
       "      <td>-0.638875</td>\n",
       "      <td>-0.137280</td>\n",
       "    </tr>\n",
       "    <tr>\n",
       "      <td>2</td>\n",
       "      <td>-174.287464</td>\n",
       "      <td>10.078797</td>\n",
       "      <td>0.470087</td>\n",
       "      <td>1.229518</td>\n",
       "      <td>0.648421</td>\n",
       "    </tr>\n",
       "    <tr>\n",
       "      <td>3</td>\n",
       "      <td>540.708989</td>\n",
       "      <td>1.967227</td>\n",
       "      <td>-1.626378</td>\n",
       "      <td>0.136289</td>\n",
       "      <td>-1.270920</td>\n",
       "    </tr>\n",
       "    <tr>\n",
       "      <td>4</td>\n",
       "      <td>490.711557</td>\n",
       "      <td>9.996955</td>\n",
       "      <td>-0.550625</td>\n",
       "      <td>0.109989</td>\n",
       "      <td>0.632309</td>\n",
       "    </tr>\n",
       "  </tbody>\n",
       "</table>\n",
       "</div>"
      ],
      "text/plain": [
       "   Edad Madre  No. embarazos  Semanas de gestación     Talla      Peso\n",
       "0 -164.292001      11.065982             -2.589231  0.364321 -0.355665\n",
       "1 -779.290896      -6.853430              0.274158 -0.638875 -0.137280\n",
       "2 -174.287464      10.078797              0.470087  1.229518  0.648421\n",
       "3  540.708989       1.967227             -1.626378  0.136289 -1.270920\n",
       "4  490.711557       9.996955             -0.550625  0.109989  0.632309"
      ]
     },
     "execution_count": 201,
     "metadata": {},
     "output_type": "execute_result"
    }
   ],
   "source": [
    "\n",
    "pca = PCA()\n",
    "df_pca = pd.DataFrame(pca.fit_transform(df[features]),columns=features)\n",
    "df_pca.head()"
   ]
  },
  {
   "cell_type": "markdown",
   "metadata": {},
   "source": [
    "¿Cuáles son las varianzas de cada uno de los componentes principales? El primer componente principal representa una variación del 92.46%, mientras que el segundo, tercero y cuarto representan una variación del 5.3%, 1.71% y 0.51%, respectivamente. Podemos decir que 92.46% + 5.3% = 97.76% de la información es captada por el primer y segundo componente principal. A menudo queremos mantener sólo las características significativas y eliminar las insignificantes. Una regla empírica es mantener los principales componentes principales que capturan la varianza significativa e ignorar los pequeños."
   ]
  },
  {
   "cell_type": "code",
   "execution_count": 202,
   "metadata": {},
   "outputs": [
    {
     "data": {
      "text/plain": [
       "array([9.99703519e-01, 2.62418683e-04, 2.74448070e-05, 4.40640799e-06,\n",
       "       2.21118004e-06])"
      ]
     },
     "execution_count": 202,
     "metadata": {},
     "output_type": "execute_result"
    }
   ],
   "source": [
    "explained_variance = pca.explained_variance_ratio_\n",
    "explained_variance"
   ]
  },
  {
   "cell_type": "markdown",
   "metadata": {},
   "source": [
    "Podemos graficar el dataframe usando los dos primeros componentes.\n"
   ]
  },
  {
   "cell_type": "code",
   "execution_count": 204,
   "metadata": {},
   "outputs": [
    {
     "data": {
      "text/html": [
       "<div>\n",
       "<style scoped>\n",
       "    .dataframe tbody tr th:only-of-type {\n",
       "        vertical-align: middle;\n",
       "    }\n",
       "\n",
       "    .dataframe tbody tr th {\n",
       "        vertical-align: top;\n",
       "    }\n",
       "\n",
       "    .dataframe thead th {\n",
       "        text-align: right;\n",
       "    }\n",
       "</style>\n",
       "<table border=\"1\" class=\"dataframe\">\n",
       "  <thead>\n",
       "    <tr style=\"text-align: right;\">\n",
       "      <th></th>\n",
       "      <th>PC1</th>\n",
       "      <th>PC2</th>\n",
       "      <th>PC3</th>\n",
       "      <th>PC4</th>\n",
       "      <th>PC5</th>\n",
       "      <th>target</th>\n",
       "    </tr>\n",
       "  </thead>\n",
       "  <tbody>\n",
       "    <tr>\n",
       "      <td>0</td>\n",
       "      <td>-164.292001</td>\n",
       "      <td>11.065982</td>\n",
       "      <td>-2.589231</td>\n",
       "      <td>0.364321</td>\n",
       "      <td>-0.355665</td>\n",
       "      <td>AGUASCALIENTES</td>\n",
       "    </tr>\n",
       "    <tr>\n",
       "      <td>1</td>\n",
       "      <td>-779.290896</td>\n",
       "      <td>-6.853430</td>\n",
       "      <td>0.274158</td>\n",
       "      <td>-0.638875</td>\n",
       "      <td>-0.137280</td>\n",
       "      <td>AGUASCALIENTES</td>\n",
       "    </tr>\n",
       "    <tr>\n",
       "      <td>2</td>\n",
       "      <td>-174.287464</td>\n",
       "      <td>10.078797</td>\n",
       "      <td>0.470087</td>\n",
       "      <td>1.229518</td>\n",
       "      <td>0.648421</td>\n",
       "      <td>AGUASCALIENTES</td>\n",
       "    </tr>\n",
       "    <tr>\n",
       "      <td>3</td>\n",
       "      <td>540.708989</td>\n",
       "      <td>1.967227</td>\n",
       "      <td>-1.626378</td>\n",
       "      <td>0.136289</td>\n",
       "      <td>-1.270920</td>\n",
       "      <td>AGUASCALIENTES</td>\n",
       "    </tr>\n",
       "    <tr>\n",
       "      <td>4</td>\n",
       "      <td>490.711557</td>\n",
       "      <td>9.996955</td>\n",
       "      <td>-0.550625</td>\n",
       "      <td>0.109989</td>\n",
       "      <td>0.632309</td>\n",
       "      <td>AGUASCALIENTES</td>\n",
       "    </tr>\n",
       "  </tbody>\n",
       "</table>\n",
       "</div>"
      ],
      "text/plain": [
       "          PC1        PC2       PC3       PC4       PC5          target\n",
       "0 -164.292001  11.065982 -2.589231  0.364321 -0.355665  AGUASCALIENTES\n",
       "1 -779.290896  -6.853430  0.274158 -0.638875 -0.137280  AGUASCALIENTES\n",
       "2 -174.287464  10.078797  0.470087  1.229518  0.648421  AGUASCALIENTES\n",
       "3  540.708989   1.967227 -1.626378  0.136289 -1.270920  AGUASCALIENTES\n",
       "4  490.711557   9.996955 -0.550625  0.109989  0.632309  AGUASCALIENTES"
      ]
     },
     "execution_count": 204,
     "metadata": {},
     "output_type": "execute_result"
    }
   ],
   "source": [
    "df_pca['target'] = df[target]\n",
    "df_pca.columns = ['PC1', 'PC2','PC3','PC4','PC5','target']\n",
    "df_pca.head()"
   ]
  },
  {
   "cell_type": "code",
   "execution_count": 210,
   "metadata": {},
   "outputs": [
    {
     "data": {
      "image/png": "[encoded data removed]",
      "text/plain": [
       "<Figure size 432x288 with 1 Axes>"
      ]
     },
     "metadata": {
      "needs_background": "light"
     },
     "output_type": "display_data"
    }
   ],
   "source": [
    "fig = plt.figure()\n",
    "ax = fig.add_subplot(1,1,1) \n",
    "ax.set_xlabel('Principal component 1') \n",
    "ax.set_ylabel('Principal component 2')\n",
    "ax.set_title('2 component PCA') \n",
    "targets = ['AGUASCALIENTES','DISTRITO FEDERAL','MEXICO','CHIHUAHUA']\n",
    "colors = ['r', 'g', 'b','y']\n",
    "\n",
    "for target, color in zip(targets,colors):\n",
    "    indicesToKeep = df_pca['target'] == target\n",
    "    ax.scatter(df_pca.loc[indicesToKeep, 'PC3']\n",
    "    , df_pca.loc[indicesToKeep, 'PC5']\n",
    "    , c = color\n",
    "    , s = 50)\n",
    "ax.legend(targets)\n",
    "ax.grid()"
   ]
  },
  {
   "cell_type": "code",
   "execution_count": 211,
   "metadata": {},
   "outputs": [
    {
     "data": {
      "image/png": "[encoded data removed]",
      "text/plain": [
       "<Figure size 720x720 with 1 Axes>"
      ]
     },
     "metadata": {
      "needs_background": "light"
     },
     "output_type": "display_data"
    }
   ],
   "source": [
    "np.random.seed(0)\n",
    "X, y = make_circles(n_samples=400, factor=.3, noise=.05)\n",
    "\n",
    "plt.figure(figsize=(10,10))\n",
    "plt.subplot(2, 2, 1, aspect='equal')\n",
    "plt.title(\"Espacio original\")\n",
    "reds = y == 0\n",
    "blues = y == 1\n",
    "\n",
    "plt.scatter(X[reds, 0], X[reds, 1], c=\"red\",s=20, edgecolor='k')\n",
    "plt.scatter(X[blues, 0], X[blues, 1], c=\"blue\",s=20, edgecolor='k')\n",
    "plt.xlabel(\"$x_1$\")\n",
    "plt.ylabel(\"$x_2$\")\n",
    "plt.grid()"
   ]
  },
  {
   "cell_type": "code",
   "execution_count": 212,
   "metadata": {},
   "outputs": [
    {
     "data": {
      "image/png": "[encoded data removed]",
      "text/plain": [
       "<Figure size 432x288 with 1 Axes>"
      ]
     },
     "metadata": {
      "needs_background": "light"
     },
     "output_type": "display_data"
    }
   ],
   "source": [
    "kpca = KernelPCA(kernel = \"rbf\", fit_inverse_transform=True, gamma=10)\n",
    "X_kpca = kpca.fit_transform(X)\n",
    "\n",
    "pca = PCA()\n",
    "X_pca = pca.fit_transform(X)\n",
    "\n",
    "plt.scatter(X_kpca[reds, 0], X_kpca[reds, 1], c=\"red\", s=20, edgecolor='k')\n",
    "plt.scatter(X_kpca[blues, 0], X_kpca[blues, 1], c=\"blue\",s=20, edgecolor='k')\n",
    "x = np.linspace(-1, 1, 1000)\n",
    "plt.plot(x, -0.1*x, linestyle=\"solid\")\n",
    "plt.title(\"Proyección de KPCA\")\n",
    "plt.xlabel(\"Primer componente principal inducido por $\\phi$\")\n",
    "plt.ylabel(\"Segundo componente principal\")\n",
    "plt.grid()"
   ]
  },
  {
   "cell_type": "code",
   "execution_count": null,
   "metadata": {},
   "outputs": [],
   "source": []
  },
  {
   "cell_type": "code",
   "execution_count": 92,
   "metadata": {},
   "outputs": [
    {
     "data": {
      "text/plain": [
       "33"
      ]
     },
     "execution_count": 92,
     "metadata": {},
     "output_type": "execute_result"
    }
   ],
   "source": []
  }
 ],
 "metadata": {
  "kernelspec": {
   "display_name": "Python 3",
   "language": "python",
   "name": "python3"
  },
  "language_info": {
   "codemirror_mode": {
    "name": "ipython",
    "version": 3
   },
   "file_extension": ".py",
   "mimetype": "text/x-python",
   "name": "python",
   "nbconvert_exporter": "python",
   "pygments_lexer": "ipython3",
   "version": "3.7.4"
  }
 },
 "nbformat": 4,
 "nbformat_minor": 2
}
